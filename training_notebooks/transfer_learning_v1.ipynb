{
  "cells": [
    {
      "cell_type": "code",
      "execution_count": null,
      "metadata": {
        "id": "yvPJCL5pGQ7T"
      },
      "outputs": [],
      "source": [
        "from google.colab import drive\n",
        "drive.mount('/content/drive')"
      ]
    },
    {
      "cell_type": "code",
      "execution_count": null,
      "metadata": {
        "id": "bIvXTQ_poSls"
      },
      "outputs": [],
      "source": [
        "from google.colab import files\n",
        "files.upload()"
      ]
    },
    {
      "cell_type": "code",
      "execution_count": null,
      "metadata": {
        "id": "97Kp6dWGobVq"
      },
      "outputs": [],
      "source": [
        "!mkdir -p ~/.kaggle\n",
        "!mv kaggle.json ~/.kaggle/\n",
        "!chmod 600 ~/.kaggle/kaggle.json"
      ]
    },
    {
      "cell_type": "code",
      "execution_count": null,
      "metadata": {
        "id": "whcREioSod4Z"
      },
      "outputs": [],
      "source": [
        "!kaggle datasets download -d nparaskakismscdsncsr/mscds-deep-learning-project-data"
      ]
    },
    {
      "cell_type": "code",
      "execution_count": null,
      "metadata": {
        "id": "acDEHFfF-ybY"
      },
      "outputs": [],
      "source": [
        "!git clone https://github.com/nparaskakis/deep-learning-ncsr.git"
      ]
    },
    {
      "cell_type": "code",
      "execution_count": null,
      "metadata": {
        "id": "U2wL7Cypy9gf"
      },
      "outputs": [],
      "source": [
        "!unzip -q mscds-deep-learning-project-data.zip -d deep-learning-ncsr/"
      ]
    },
    {
      "cell_type": "code",
      "execution_count": null,
      "metadata": {
        "id": "aXq4ClnnT0Mb"
      },
      "outputs": [],
      "source": [
        "!rm -r mscds-deep-learning-project-data.zip"
      ]
    },
    {
      "cell_type": "code",
      "execution_count": null,
      "metadata": {
        "id": "eCualry1_AV_"
      },
      "outputs": [],
      "source": [
        "%load_ext tensorboard"
      ]
    },
    {
      "cell_type": "code",
      "execution_count": null,
      "metadata": {
        "id": "cZpR3Im6_AYl"
      },
      "outputs": [],
      "source": [
        "%tensorboard --logdir deep-learning-ncsr/transfer_learning_v1/logs"
      ]
    },
    {
      "cell_type": "code",
      "execution_count": null,
      "metadata": {
        "id": "AI3MyMoz_AbZ"
      },
      "outputs": [],
      "source": [
        "!pip install -r deep-learning-ncsr/requirements.txt"
      ]
    },
    {
      "cell_type": "code",
      "execution_count": null,
      "metadata": {
        "id": "HEhjVGRF_IVq"
      },
      "outputs": [],
      "source": [
        "%cd deep-learning-ncsr/transfer_learning_v1/"
      ]
    },
    {
      "cell_type": "code",
      "execution_count": null,
      "metadata": {
        "id": "ONzb25Pu_Kt9"
      },
      "outputs": [],
      "source": [
        "!python main.py --architecture CNN4 --features melspectrograms --epochs 200"
      ]
    },
    {
      "cell_type": "code",
      "execution_count": null,
      "metadata": {
        "id": "zjyS1V-iEJib"
      },
      "outputs": [],
      "source": [
        "import shutil\n",
        "import datetime\n",
        "\n",
        "# Define the source directory\n",
        "src_dir = '/content/deep-learning-ncsr/transfer_learning_v1/logs'\n",
        "\n",
        "# Get the current timestamp\n",
        "timestamp = datetime.datetime.now().strftime(\"%Y%m%d_%H%M%S\")\n",
        "\n",
        "# Define the destination directory with the timestamp\n",
        "dst_dir = f'/content/drive/MyDrive/runs/logs_{timestamp}'\n",
        "\n",
        "# Copy the directory\n",
        "shutil.copytree(src_dir, dst_dir)\n"
      ]
    }
  ],
  "metadata": {
    "accelerator": "GPU",
    "colab": {
      "gpuType": "T4",
      "provenance": []
    },
    "kernelspec": {
      "display_name": "Python 3",
      "name": "python3"
    },
    "language_info": {
      "name": "python"
    }
  },
  "nbformat": 4,
  "nbformat_minor": 0
}
